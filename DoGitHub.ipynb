{
  "nbformat": 4,
  "nbformat_minor": 0,
  "metadata": {
    "colab": {
      "provenance": [],
      "authorship_tag": "ABX9TyO16MSI7jHqQvKiRZDNjj1f",
      "include_colab_link": true
    },
    "kernelspec": {
      "name": "python3",
      "display_name": "Python 3"
    },
    "language_info": {
      "name": "python"
    }
  },
  "cells": [
    {
      "cell_type": "markdown",
      "metadata": {
        "id": "view-in-github",
        "colab_type": "text"
      },
      "source": [
        "<a href=\"https://colab.research.google.com/github/Andrzej-Langner/Nowy-10/blob/main/DoGitHub.ipynb\" target=\"_parent\"><img src=\"https://colab.research.google.com/assets/colab-badge.svg\" alt=\"Open In Colab\"/></a>"
      ]
    },
    {
      "cell_type": "code",
      "execution_count": null,
      "metadata": {
        "colab": {
          "base_uri": "https://localhost:8080/"
        },
        "id": "dqGjj88KH17_",
        "outputId": "1cca26d9-5af1-48ab-b12b-d4a1f7865387"
      },
      "outputs": [
        {
          "output_type": "stream",
          "name": "stdout",
          "text": [
            "Initialized empty Git repository in /content/.git/\n"
          ]
        }
      ],
      "source": [
        "!git init\n"
      ]
    },
    {
      "cell_type": "code",
      "source": [
        "!git status\n"
      ],
      "metadata": {
        "colab": {
          "base_uri": "https://localhost:8080/"
        },
        "id": "kDOfQiLLIPhT",
        "outputId": "b6547a4e-7b55-4766-97ce-2e3f08fdb98b"
      },
      "execution_count": null,
      "outputs": [
        {
          "output_type": "stream",
          "name": "stdout",
          "text": [
            "On branch master\n",
            "\n",
            "No commits yet\n",
            "\n",
            "Untracked files:\n",
            "  (use \"git add <file>...\" to include in what will be committed)\n",
            "\t\u001b[31m.config/\u001b[m\n",
            "\t\u001b[31msample_data/\u001b[m\n",
            "\n",
            "nothing added to commit but untracked files present (use \"git add\" to track)\n"
          ]
        }
      ]
    },
    {
      "cell_type": "code",
      "source": [
        "import numpy as np\n"
      ],
      "metadata": {
        "id": "2F2auf4nIkFt"
      },
      "execution_count": null,
      "outputs": []
    },
    {
      "cell_type": "code",
      "source": [
        "!git status"
      ],
      "metadata": {
        "id": "kHnPvZL7IrQM",
        "outputId": "622f875a-de9c-48a3-cd6f-20923f987717",
        "colab": {
          "base_uri": "https://localhost:8080/"
        }
      },
      "execution_count": null,
      "outputs": [
        {
          "output_type": "stream",
          "name": "stdout",
          "text": [
            "On branch master\n",
            "\n",
            "No commits yet\n",
            "\n",
            "Untracked files:\n",
            "  (use \"git add <file>...\" to include in what will be committed)\n",
            "\t\u001b[31m.config/\u001b[m\n",
            "\t\u001b[31msample_data/\u001b[m\n",
            "\n",
            "nothing added to commit but untracked files present (use \"git add\" to track)\n"
          ]
        }
      ]
    },
    {
      "cell_type": "code",
      "source": [
        "!git add ."
      ],
      "metadata": {
        "id": "oBaKUiV4r8Ll"
      },
      "execution_count": null,
      "outputs": []
    },
    {
      "cell_type": "code",
      "source": [
        "!git status"
      ],
      "metadata": {
        "colab": {
          "base_uri": "https://localhost:8080/"
        },
        "id": "fOT0lF_Cr_a3",
        "outputId": "fb572195-87cd-403d-bd7f-bc7b24c7ab20"
      },
      "execution_count": null,
      "outputs": [
        {
          "output_type": "stream",
          "name": "stdout",
          "text": [
            "On branch master\n",
            "\n",
            "No commits yet\n",
            "\n",
            "Changes to be committed:\n",
            "  (use \"git rm --cached <file>...\" to unstage)\n",
            "\t\u001b[32mnew file:   .config/.last_opt_in_prompt.yaml\u001b[m\n",
            "\t\u001b[32mnew file:   .config/.last_survey_prompt.yaml\u001b[m\n",
            "\t\u001b[32mnew file:   .config/.last_update_check.json\u001b[m\n",
            "\t\u001b[32mnew file:   .config/active_config\u001b[m\n",
            "\t\u001b[32mnew file:   .config/config_sentinel\u001b[m\n",
            "\t\u001b[32mnew file:   .config/configurations/config_default\u001b[m\n",
            "\t\u001b[32mnew file:   .config/gce\u001b[m\n",
            "\t\u001b[32mnew file:   .config/logs/2023.03.16/13.43.22.764827.log\u001b[m\n",
            "\t\u001b[32mnew file:   .config/logs/2023.03.16/13.43.48.359468.log\u001b[m\n",
            "\t\u001b[32mnew file:   .config/logs/2023.03.16/13.44.14.102664.log\u001b[m\n",
            "\t\u001b[32mnew file:   .config/logs/2023.03.16/13.44.22.643153.log\u001b[m\n",
            "\t\u001b[32mnew file:   .config/logs/2023.03.16/13.44.48.828779.log\u001b[m\n",
            "\t\u001b[32mnew file:   .config/logs/2023.03.16/13.44.49.666447.log\u001b[m\n",
            "\t\u001b[32mnew file:   sample_data/README.md\u001b[m\n",
            "\t\u001b[32mnew file:   sample_data/anscombe.json\u001b[m\n",
            "\t\u001b[32mnew file:   sample_data/california_housing_test.csv\u001b[m\n",
            "\t\u001b[32mnew file:   sample_data/california_housing_train.csv\u001b[m\n",
            "\t\u001b[32mnew file:   sample_data/mnist_test.csv\u001b[m\n",
            "\t\u001b[32mnew file:   sample_data/mnist_train_small.csv\u001b[m\n",
            "\n"
          ]
        }
      ]
    },
    {
      "cell_type": "code",
      "source": [
        "!git commit -m \"Pierwszy\""
      ],
      "metadata": {
        "colab": {
          "base_uri": "https://localhost:8080/"
        },
        "id": "ZI3ZUIJ7sFID",
        "outputId": "3f42e0ef-2de3-4528-bd01-0d64b20803cb"
      },
      "execution_count": null,
      "outputs": [
        {
          "output_type": "stream",
          "name": "stdout",
          "text": [
            "\n",
            "*** Please tell me who you are.\n",
            "\n",
            "Run\n",
            "\n",
            "  git config --global user.email \"you@example.com\"\n",
            "  git config --global user.name \"Your Name\"\n",
            "\n",
            "to set your account's default identity.\n",
            "Omit --global to set the identity only in this repository.\n",
            "\n",
            "fatal: unable to auto-detect email address (got 'root@75247df344c6.(none)')\n"
          ]
        }
      ]
    },
    {
      "cell_type": "code",
      "source": [
        "\n",
        "!git config --global user.email \"alangner@onet.eu\"\n",
        "!git config --global user.name \"Andrzej\""
      ],
      "metadata": {
        "id": "WcrUf_VMsZcn"
      },
      "execution_count": 9,
      "outputs": []
    },
    {
      "cell_type": "code",
      "source": [
        "!git commit -m \"Pierwszy\""
      ],
      "metadata": {
        "colab": {
          "base_uri": "https://localhost:8080/"
        },
        "id": "uqFddP6xs8bj",
        "outputId": "548ce170-cc13-4786-f7c8-0009a8905af8"
      },
      "execution_count": 10,
      "outputs": [
        {
          "output_type": "stream",
          "name": "stdout",
          "text": [
            "[master (root-commit) 5014de7] Pierwszy\n",
            " 19 files changed, 50872 insertions(+)\n",
            " create mode 100644 .config/.last_opt_in_prompt.yaml\n",
            " create mode 100644 .config/.last_survey_prompt.yaml\n",
            " create mode 100644 .config/.last_update_check.json\n",
            " create mode 100644 .config/active_config\n",
            " create mode 100644 .config/config_sentinel\n",
            " create mode 100644 .config/configurations/config_default\n",
            " create mode 100644 .config/gce\n",
            " create mode 100644 .config/logs/2023.03.16/13.43.22.764827.log\n",
            " create mode 100644 .config/logs/2023.03.16/13.43.48.359468.log\n",
            " create mode 100644 .config/logs/2023.03.16/13.44.14.102664.log\n",
            " create mode 100644 .config/logs/2023.03.16/13.44.22.643153.log\n",
            " create mode 100644 .config/logs/2023.03.16/13.44.48.828779.log\n",
            " create mode 100644 .config/logs/2023.03.16/13.44.49.666447.log\n",
            " create mode 100755 sample_data/README.md\n",
            " create mode 100755 sample_data/anscombe.json\n",
            " create mode 100644 sample_data/california_housing_test.csv\n",
            " create mode 100644 sample_data/california_housing_train.csv\n",
            " create mode 100644 sample_data/mnist_test.csv\n",
            " create mode 100644 sample_data/mnist_train_small.csv\n"
          ]
        }
      ]
    },
    {
      "cell_type": "code",
      "source": [
        "!git log"
      ],
      "metadata": {
        "colab": {
          "base_uri": "https://localhost:8080/"
        },
        "id": "DWDxjttfs-WE",
        "outputId": "0553adb5-c75d-4c64-c13a-904b82beaa48"
      },
      "execution_count": 11,
      "outputs": [
        {
          "output_type": "stream",
          "name": "stdout",
          "text": [
            "\u001b[33mcommit 5014de7a954e6523ebbed226fed17f5c4fe0b467\u001b[m\u001b[33m (\u001b[m\u001b[1;36mHEAD -> \u001b[m\u001b[1;32mmaster\u001b[m\u001b[33m)\u001b[m\n",
            "Author: Andrzej <alangner@onet.eu>\n",
            "Date:   Mon Mar 20 11:07:29 2023 +0000\n",
            "\n",
            "    Pierwszy\n"
          ]
        }
      ]
    },
    {
      "cell_type": "code",
      "source": [
        "!git remote add origin https://github.com/Andrzej-Langner/Nowy20.git\n"
      ],
      "metadata": {
        "id": "s9XDo0mUtDaq"
      },
      "execution_count": 12,
      "outputs": []
    },
    {
      "cell_type": "code",
      "source": [
        "!git remote -v"
      ],
      "metadata": {
        "colab": {
          "base_uri": "https://localhost:8080/"
        },
        "id": "sukL66HltL2e",
        "outputId": "ce6f4724-3e88-4acd-c409-7469b56268b6"
      },
      "execution_count": 13,
      "outputs": [
        {
          "output_type": "stream",
          "name": "stdout",
          "text": [
            "origin\thttps://github.com/Andrzej-Langner/Nowy20.git (fetch)\n",
            "origin\thttps://github.com/Andrzej-Langner/Nowy20.git (push)\n"
          ]
        }
      ]
    },
    {
      "cell_type": "code",
      "source": [
        "!git branch -M main"
      ],
      "metadata": {
        "id": "U4iYDMeeto53"
      },
      "execution_count": 14,
      "outputs": []
    },
    {
      "cell_type": "code",
      "source": [
        "!git push -u origin main"
      ],
      "metadata": {
        "colab": {
          "base_uri": "https://localhost:8080/"
        },
        "id": "9v_FxCW-t2bb",
        "outputId": "b4554c42-ae11-4732-fbfa-81770c7a5f2a"
      },
      "execution_count": 15,
      "outputs": [
        {
          "output_type": "stream",
          "name": "stdout",
          "text": [
            "fatal: could not read Username for 'https://github.com': No such device or address\n"
          ]
        }
      ]
    },
    {
      "cell_type": "code",
      "source": [],
      "metadata": {
        "id": "aDJcLoXtt82C"
      },
      "execution_count": null,
      "outputs": []
    }
  ]
}